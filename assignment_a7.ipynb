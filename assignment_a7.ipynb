{
  "cells": [
    {
      "cell_type": "code",
      "execution_count": 3,
      "metadata": {
        "colab": {
          "base_uri": "https://localhost:8080/"
        },
        "id": "tslKwOmOD_ga",
        "outputId": "ac6e920b-6d3b-4552-d274-84d088615697"
      },
      "outputs": [
        {
          "name": "stdout",
          "output_type": "stream",
          "text": [
            "cuda\n"
          ]
        }
      ],
      "source": [
        "import os\n",
        "import torch\n",
        "# Set GPU device\n",
        "# os.environ[\"CUDA_VISIBLE_DEVICES\"] = \"1\"\n",
        "\n",
        "device = torch.device('cuda' if torch.cuda.is_available() else 'cpu')\n",
        "print(device)"
      ]
    },
    {
      "cell_type": "code",
      "execution_count": 5,
      "metadata": {
        "colab": {
          "base_uri": "https://localhost:8080/"
        },
        "id": "P99hj66TD_gc",
        "outputId": "7aeebb47-698b-4a1c-91a3-f6f7333bbcf0"
      },
      "outputs": [
        {
          "data": {
            "text/plain": [
              "PromptTemplate(input_variables=['context', 'question'], template='\"Welcome to the Friendly and Assistive Informational Bot for Asian Institute of Technology!\\n   How can I assist you today? Whether you need information about programs, admission procedures, campus facilities,\\n   or anything else related to AIT, I\\'m here to help. Just ask away, and I\\'ll provide you with all the necessary details\\n   to make your experience at AIT as smooth and enjoyable as possible.\"\\n    {context}\\n    Question: {question}\\n    Answer:')"
            ]
          },
          "execution_count": 5,
          "metadata": {},
          "output_type": "execute_result"
        }
      ],
      "source": [
        "from langchain import PromptTemplate\n",
        "\n",
        "prompt_template = \"\"\"\n",
        "   \"Welcome to the Friendly and Assistive Informational Bot for Asian Institute of Technology!\n",
        "   How can I assist you today? Whether you need information about programs, admission procedures, campus facilities,\n",
        "   or anything else related to AIT, I'm here to help. Just ask away, and I'll provide you with all the necessary details\n",
        "   to make your experience at AIT as smooth and enjoyable as possible.\"\n",
        "    {context}\n",
        "    Question: {question}\n",
        "    Answer:\n",
        "    \"\"\".strip()\n",
        "\n",
        "PROMPT = PromptTemplate.from_template(\n",
        "    template = prompt_template\n",
        ")\n",
        "\n",
        "PROMPT\n",
        "#using str.format\n",
        "#The placeholder is defined using curly brackets: {} {}"
      ]
    },
    {
      "cell_type": "code",
      "execution_count": 6,
      "metadata": {
        "colab": {
          "base_uri": "https://localhost:8080/",
          "height": 122
        },
        "id": "TjB7M8IsD_gc",
        "outputId": "38850a3a-af94-47cc-8337-06aa7978b190"
      },
      "outputs": [
        {
          "data": {
            "application/vnd.google.colaboratory.intrinsic+json": {
              "type": "string"
            },
            "text/plain": [
              "'\"Welcome to the Friendly and Assistive Informational Bot for Asian Institute of Technology!\\n   How can I assist you today? Whether you need information about programs, admission procedures, campus facilities,\\n   or anything else related to AIT, I\\'m here to help. Just ask away, and I\\'ll provide you with all the necessary details\\n   to make your experience at AIT as smooth and enjoyable as possible.\"\\n    AIT is an international English-speaking postgraduate institution, focusing on engineering, environment, and management studies. AIT’s rigorous academic, research, and experiential outreach programs prepare graduates for professional success and leadership roles in Asia and beyond.\\n    Question: Tell me about AIT\\n    Answer:'"
            ]
          },
          "execution_count": 6,
          "metadata": {},
          "output_type": "execute_result"
        }
      ],
      "source": [
        "PROMPT.format(\n",
        "    context = \"AIT is an international English-speaking postgraduate institution, focusing on engineering, environment, and management studies. AIT’s rigorous academic, research, and experiential outreach programs prepare graduates for professional success and leadership roles in Asia and beyond.\",\n",
        "    question = \"Tell me about AIT\"\n",
        ")"
      ]
    },
    {
      "cell_type": "markdown",
      "metadata": {
        "id": "T30Vlgc5D_gd"
      },
      "source": [
        "### Retrieval"
      ]
    },
    {
      "cell_type": "markdown",
      "metadata": {
        "id": "h_fkmBVpD_gd"
      },
      "source": [
        "##### Document Loaders"
      ]
    },
    {
      "cell_type": "code",
      "execution_count": 7,
      "metadata": {
        "id": "wQYvBTP_IlZ_"
      },
      "outputs": [],
      "source": [
        "# cd content"
      ]
    },
    {
      "cell_type": "code",
      "execution_count": 8,
      "metadata": {
        "id": "OMFZtULTD_ge"
      },
      "outputs": [],
      "source": [
        "from langchain.document_loaders import PyMuPDFLoader, TextLoader\n",
        "\n",
        "nlp_docs = './data/AIT-BROCHURE.pdf'\n",
        "\n",
        "\n",
        "pdf_loader1 = PyMuPDFLoader(nlp_docs)\n",
        "document1 = pdf_loader1.load()\n",
        "\n",
        "pdf_loader2 = PyMuPDFLoader('./data/090405.pdf')\n",
        "document2 = pdf_loader2.load()\n",
        "\n",
        "text_loader = TextLoader('./data/AIT-Wiki.txt')\n",
        "document3 = text_loader.load()"
      ]
    },
    {
      "cell_type": "code",
      "execution_count": 9,
      "metadata": {
        "id": "QepvFc4miiWw"
      },
      "outputs": [],
      "source": [
        "documents = document1 + document2 + document3"
      ]
    },
    {
      "cell_type": "code",
      "execution_count": 10,
      "metadata": {
        "colab": {
          "base_uri": "https://localhost:8080/"
        },
        "id": "lpVtMsDSD_ge",
        "outputId": "5b0fc6ee-55b7-4413-e6a4-2e9303b67265"
      },
      "outputs": [
        {
          "data": {
            "text/plain": [
              "8"
            ]
          },
          "execution_count": 10,
          "metadata": {},
          "output_type": "execute_result"
        }
      ],
      "source": [
        "len(documents)\n"
      ]
    },
    {
      "cell_type": "code",
      "execution_count": 11,
      "metadata": {
        "colab": {
          "base_uri": "https://localhost:8080/"
        },
        "id": "ZP32b5-PD_gf",
        "outputId": "90827d2a-611c-45c5-f1ca-d19e0055f198"
      },
      "outputs": [
        {
          "data": {
            "text/plain": [
              "Document(page_content='Department of Food, \\nAgriculture and Bioresources\\nAgribusiness Management \\nAgricultural Systems and \\nEngineering \\nAquaculture and Aquatic \\nResources Management \\nFood Engineering and \\nBioprocess Technology \\nFood Innovation, Nutrition and \\nHealth\\nS T U DY  O P T I O N S  A T  A I T\\nMaster’s and PhD Degree Programs\\nAvailable in many fields of specializations across its \\nthree Schools, covering various aspects of techno-\\nlogy, social developments, and management. Sev-\\neral new degree programs are designed to address \\nemerging global challenges and to respond to cur-\\nrent demands of the workforce. \\nFlexible Degree Options\\nNew alternative to traditional “On-campus Degree \\nOptions”. Students can do many courses online via \\nAIT’s Hybrid Modes of Instruction, with an option of \\nflexible payment: course-by-course. The minimum \\nenrollment is two courses per semester – ideal for those \\nnot wanting to take too much time away from career, \\nor those wanting to work and study at the same time. \\nOne-Year Master’s Programs\\nProviding students with ‘coursework-only’ option for \\nhigher education to support career advancement. \\nIt is offered in parallel to our conventional two-year \\nmaster’s programs – ideal for those not wanting to \\ntake much time away from career.\\nProfessional Master’s Programs\\nUnique educational offering for working professionals, \\nbuilt on the experience of professionals in specific \\ndomains. The curriculum is practice-oriented, based \\non conceptually rigorous models and frameworks – \\nwith delivery mode adapted to the needs. Graduates \\nhave benefited immensely through this international \\nlearning experience. \\nU N I V E R S I T I E S\\n• Beijing Institute of Technology\\n• Beijing Normal University\\n• Brunel University London\\n• Colorado State University \\n• IHE Delft Institute for Water Education\\n• Koc University\\n• Korea Advanced Institute of Science and \\nTechnology\\n• Kyoto University\\n• Lomonosov Moscow State University\\n• National Taiwan University\\n• Shanghai Ocean University \\n• Tallinn University of Technology\\n• Technical University of Munich \\n• Tsinghua University\\n• University of Alberta\\n• University of Iowa\\n• University of Oulu\\n• University of Science and Technology of China\\n• University of Strathclyde\\n• University of Tokyo\\n• University of Wollongong \\n• Vilnius Gediminas Technical University\\n• and more …\\nE N T E R P R I S E S , N G O s \\na n d   G O V E R N M E N T S\\n• Asian Development Bank \\n• Bangchak Corporation Pub Co., Ltd.\\n• Betagro Pub Co., Ltd.\\n• Bill and Melinda Gates Foundation\\n• China Scholarship Council \\n• Computer & Structure Inc.\\n• DeepRock (Vanke), Shenzhen \\n• Dorabot, Shenzhen\\n• ERASMUS+ / European Union\\n• German Academic Exchange Service (DAAD)\\n• Ministry of Foreign Affairs, Government of Japan\\n• National Science and Technology  \\nDevelopment Agency \\n• Royal Thai Government \\n• Siam Cement Group Pub Co., Ltd.\\n• Siam Commercial Bank Pub Co., Ltd.\\n• TEAM Consulting Engineering and  \\nManagement Pub Co., Ltd.\\n• Thai Pipe Industry Co., Ltd.\\n• United Nations Economic and Social  \\nCommission for Asia and the Pacific\\n• United States Agency for International Development \\n• World Bank\\n• and more …\\nP A R T N E R S  \\nA B O U T\\nA I T\\nThe Asian Institute of Technology (AIT) is an \\ninternational English-speaking postgraduate \\ninstitution, providing engineering, environment, \\nand management education and research, \\nfocusing on Sustainability and Social Impact \\nissues. Our current strategic themed areas \\nare: Climate Change; Smart Communities; \\nFood- Energy-Water; Infrastr ucture; and \\nTechnology, Policy and Society. AIT’s rigorous \\nacademic, research, and outreach programs \\nprepare graduates for professional success and \\nleadership roles in Asia and beyond. \\nFounded in 1959, AIT offers students the \\nopportunity to study at an institution in Asia \\nwhich possesses a global reputation. AIT stresses \\nits international connections, its injection of \\ninnovation into research and teaching, its \\nengagement with public and private sectors, \\nand its nurturing of entrepreneurship. AIT \\ncontinues to fulfill its capacity-building role \\nand has oriented its education and research \\nto support the United Nations Sustainable \\nDevelopment Goals (SDGs). The institute \\nemphasizes experiential learning through \\ninternships and exchange programs with \\nflexible delivery, incorporating the Hybrid Mode \\nof Instruction with residential learning. Sitting \\non a beautiful green campus just north of \\nBangkok, Thailand, AIT operates as a dynamic \\nmulticultural community with a cosmopolitan \\napproach to living and learning, mixing students \\nand faculty and staff from around the world. \\nToday, AIT’s inter nationally recognized \\nengineering, environment, and management \\ngraduates are highly sought after by employers \\ni n thei r home count r y and el sew he re. \\nAcross many walks of life, AIT alumni have \\ndistinguished themselves as CEO’s of private \\nand state enterprises, as business owners, as \\nwell-respected researchers and faculty, and as \\nsenior university and government officials.  \\nSCHOOL OF \\nENGINEERING & \\nTECHNOLOGY\\n(SET)\\nA C A D E M I C   P R O G R A M S\\nSCHOOL \\nOF \\nENVIRONMENT, \\nRESOURCES & \\nDEVELOPMENT\\n(SERD)\\nSCHOOL OF \\nMANAGEMENT\\n(SOM)\\nDepartment of Energy, \\nEnvironment and Climate \\nChange\\nClimate Change and \\nSustainable Development \\nEnvironmental Engineering and \\nManagement \\nMarine Plastics Abatement \\nRegenerative Sanitation \\nSustainable Energy Transition\\nDepartment of Development  \\nand Sustainability\\nDevelopment and Sustainability \\nGender and Development \\nStudies \\nNatural Resources Management \\nDevelopment Planning \\nManagement and Innovation \\nUrban Innovation and \\nSustainability \\nUrban Sustainability Planning \\nand Design \\nSociety and Environmental \\nGovernance \\nDepartment of Civil and \\nInfrastructure Engineering\\nConstruction Engineering and \\nInfrastructure Management \\nGeotechnical and Earth \\nResources Engineering \\nStructural Engineering \\nTransportation Engineering \\nWater Engineering and \\nManagement \\nDepartment of Information \\nand Communication \\nTechnologies \\nComputer Science \\nInformation Management \\nInformation and \\nCommunications Technologies \\nTelecommunications \\nRemote Sensing and \\nGeographic Information \\nSystems \\nData Science and Artificial \\nIntelligence \\nInternet of Things (IoT) Systems \\nEngineering\\nDepartment of Industrial \\nSystems Engineering\\nMechatronics\\nMicroelectronics and \\nEmbedded Systems \\nIndustrial and Manufacturing \\nEngineering \\nBio-Nano Materials Science \\nand Engineering\\nBusiness Administration \\nMarketing\\nFinance\\nChange & Innovation\\nBusiness Risk and \\nResilience \\nBusiness Analytics and \\nDigital Transformation \\nInternational Finance\\nBanking and Finance \\nUnified Programs \\nEarning two degrees – Bachelor from Partner Univer-\\nsity and Master from AIT, through this ‘fast-track’ and \\ncost-efficient collaborative program, using summer \\nholidays in the study program as inter-semester. Stu-\\ndents have an opportunity to work on a Bachelor’s \\nDegree Final-Year Project at AIT, thereby saving at \\nleast one semester of study to obtain two degrees. \\nCapacity-Building PhD Partnership \\nPrograms\\nProviding human resource capacity development \\nfor non-PhD faculty and staff of other partner higher \\neducation institutions, enhancing institutional ca-\\npacities and strengthening academic communities \\nglobally. The student can pursue a regular in-person \\nDoctoral program or a program combining resid-\\nence education with flexible online delivery, through \\ninnovative Hybrid Modes of Instruction.  \\nDual Degree Programs\\nDual degree programs with international peer in-\\nstitutions allow students to study in two approved \\ndegree programs at the same time and complete \\nthe requirements of both. These programs provide \\nacademic enrichment and international mobility for \\nstudents studying in programs in combination with \\npartner universities around the world.\\nINTER-SCHOOL \\nPROGRAMS\\n \\n Open Master of \\nEngineering/Science \\nin Interdisciplinary \\nStudies (All Schools)\\n \\n Disaster Preparedness, \\nMitigation and \\nManagement  \\n(SET & SERD)\\n \\n Urban Water \\nEngineering and \\nManagement  \\n(SET & SERD)\\n \\n Social Business and \\nEntrepreneurship \\n(SERD & SOM)\\n \\n Water Security and \\nGlobal Change  \\n(SET & SERD) \\nDegrees Offered: Masters, Doctoral, Master of Philosophy, One Year Masters and Professional Masters\\n', metadata={'source': './drive/MyDrive/nlp-assignment-a7/data/AIT-BROCHURE.pdf', 'file_path': './drive/MyDrive/nlp-assignment-a7/data/AIT-BROCHURE.pdf', 'page': 1, 'total_pages': 2, 'format': 'PDF 1.4', 'title': '', 'author': '', 'subject': '', 'keywords': '', 'creator': 'Adobe InDesign CS5.5 (7.5)', 'producer': 'macOS Version 11.6 (Build 20G165) Quartz PDFContext', 'creationDate': \"D:20211117094024Z00'00'\", 'modDate': \"D:20211117094024Z00'00'\", 'trapped': ''})"
            ]
          },
          "execution_count": 11,
          "metadata": {},
          "output_type": "execute_result"
        }
      ],
      "source": [
        "documents[1]\n"
      ]
    },
    {
      "cell_type": "markdown",
      "metadata": {
        "id": "uNRrM3vwD_gf"
      },
      "source": [
        "Document Transformers"
      ]
    },
    {
      "cell_type": "code",
      "execution_count": 12,
      "metadata": {
        "id": "OQZc71QMD_gf"
      },
      "outputs": [],
      "source": [
        "from langchain.text_splitter import RecursiveCharacterTextSplitter\n",
        "\n",
        "text_splitter = RecursiveCharacterTextSplitter(\n",
        "    chunk_size = 700,\n",
        "    chunk_overlap = 100\n",
        ")\n",
        "\n",
        "doc = text_splitter.split_documents(documents)"
      ]
    },
    {
      "cell_type": "code",
      "execution_count": 13,
      "metadata": {
        "colab": {
          "base_uri": "https://localhost:8080/"
        },
        "id": "OvWOfL6cD_gf",
        "outputId": "304ca4ad-ec34-4f26-bb0a-1cec33f23b34"
      },
      "outputs": [
        {
          "data": {
            "text/plain": [
              "Document(page_content='Regional Resource Center for Asia \\nand Pacific \\n--Advancement of Region’s environment \\nand sustainable development goals \\nthrough research and capacity building\\nBelt & Road Research Center \\n--Research and studies in sustainability \\nissues of the Belt and Road region\\nInternet Education and Research \\nLaboratory \\n--Development, training, and education \\nprograms related to internet development \\nand IT topics\\nAIT Artificial Intelligence\\nTechnology Center\\n- - R e s e a r c h  a n d  d eve l o p m e n t  t o \\nincorporate AI into AIT programs and its \\napplication to real-world problems \\nYunus Center at AIT\\n- - E nte r p r i s e  s o l u t i o n s fo r  S D G s &', metadata={'source': './drive/MyDrive/nlp-assignment-a7/data/AIT-BROCHURE.pdf', 'file_path': './drive/MyDrive/nlp-assignment-a7/data/AIT-BROCHURE.pdf', 'page': 0, 'total_pages': 2, 'format': 'PDF 1.4', 'title': '', 'author': '', 'subject': '', 'keywords': '', 'creator': 'Adobe InDesign CS5.5 (7.5)', 'producer': 'macOS Version 11.6 (Build 20G165) Quartz PDFContext', 'creationDate': \"D:20211117094024Z00'00'\", 'modDate': \"D:20211117094024Z00'00'\", 'trapped': ''})"
            ]
          },
          "execution_count": 13,
          "metadata": {},
          "output_type": "execute_result"
        }
      ],
      "source": [
        "doc[1]"
      ]
    },
    {
      "cell_type": "code",
      "execution_count": 14,
      "metadata": {
        "colab": {
          "base_uri": "https://localhost:8080/"
        },
        "id": "A_KXPgkcD_gg",
        "outputId": "3e252143-00c0-4a86-b03a-1756ab8f767f"
      },
      "outputs": [
        {
          "data": {
            "text/plain": [
              "121"
            ]
          },
          "execution_count": 14,
          "metadata": {},
          "output_type": "execute_result"
        }
      ],
      "source": [
        "len(doc)"
      ]
    },
    {
      "cell_type": "markdown",
      "metadata": {
        "id": "-d6JSfpoD_gg"
      },
      "source": [
        "#### Text Embedding Models"
      ]
    },
    {
      "cell_type": "code",
      "execution_count": 15,
      "metadata": {
        "colab": {
          "base_uri": "https://localhost:8080/"
        },
        "id": "BllPnoHjD_gg",
        "outputId": "02d4c4d3-66b9-47c2-82ed-462c0cbf39f0"
      },
      "outputs": [
        {
          "name": "stderr",
          "output_type": "stream",
          "text": [
            "/usr/local/lib/python3.10/dist-packages/InstructorEmbedding/instructor.py:7: TqdmExperimentalWarning: Using `tqdm.autonotebook.tqdm` in notebook mode. Use `tqdm.tqdm` instead to force console mode (e.g. in jupyter console)\n",
            "  from tqdm.autonotebook import trange\n"
          ]
        },
        {
          "name": "stdout",
          "output_type": "stream",
          "text": [
            "load INSTRUCTOR_Transformer\n",
            "max_seq_length  512\n"
          ]
        }
      ],
      "source": [
        "import torch\n",
        "from langchain.embeddings import HuggingFaceInstructEmbeddings\n",
        "\n",
        "model_name = 'hkunlp/instructor-base'\n",
        "\n",
        "embedding_model = HuggingFaceInstructEmbeddings(\n",
        "    model_name = model_name,\n",
        "    model_kwargs = {\"device\" : device}\n",
        ")"
      ]
    },
    {
      "cell_type": "markdown",
      "metadata": {
        "id": "V6Es_UbKD_gg"
      },
      "source": [
        "#### Vector Stores"
      ]
    },
    {
      "cell_type": "code",
      "execution_count": 16,
      "metadata": {
        "id": "ZPE_JTacD_gg"
      },
      "outputs": [],
      "source": [
        "# locate vectorstore\n",
        "vector_path = './vector-store'\n",
        "if not os.path.exists(vector_path):\n",
        "    os.makedirs(vector_path)\n",
        "    print('create path done')"
      ]
    },
    {
      "cell_type": "code",
      "execution_count": 17,
      "metadata": {
        "id": "4KmlfauED_gg"
      },
      "outputs": [],
      "source": [
        "#save vector locally\n",
        "from langchain.vectorstores import FAISS\n",
        "\n",
        "vectordb = FAISS.from_documents(\n",
        "    documents = doc,\n",
        "    embedding = embedding_model\n",
        ")\n",
        "\n",
        "db_file_name = 'nlp_stanford'\n",
        "\n",
        "vectordb.save_local(\n",
        "    # folder_path = os.path.join(vector_path, db_file_name),\n",
        "    folder_path = os.path.join('./vector-store', db_file_name),\n",
        "    index_name = 'nlp' #default index\n",
        ")"
      ]
    },
    {
      "cell_type": "markdown",
      "metadata": {
        "id": "mQfSuY47D_gg"
      },
      "source": [
        "##### retrievers"
      ]
    },
    {
      "cell_type": "code",
      "execution_count": 18,
      "metadata": {
        "id": "XzRPPg1JD_gh"
      },
      "outputs": [],
      "source": [
        "#calling vector from local\n",
        "vector_path = './vector-store'\n",
        "db_file_name = 'nlp_stanford'\n",
        "\n",
        "from langchain.vectorstores import FAISS\n",
        "\n",
        "vectordb = FAISS.load_local(\n",
        "    folder_path = os.path.join(vector_path, db_file_name),\n",
        "    embeddings = embedding_model,\n",
        "    index_name = 'nlp' #default index\n",
        ")"
      ]
    },
    {
      "cell_type": "code",
      "execution_count": 19,
      "metadata": {
        "id": "LbKzeEEPD_gh"
      },
      "outputs": [],
      "source": [
        "#ready to use\n",
        "retriever = vectordb.as_retriever()"
      ]
    },
    {
      "cell_type": "code",
      "execution_count": 20,
      "metadata": {
        "colab": {
          "base_uri": "https://localhost:8080/"
        },
        "id": "_F0yf0lJD_gh",
        "outputId": "ea9025d9-7ffe-46aa-fc72-38f46261806c"
      },
      "outputs": [
        {
          "data": {
            "text/plain": [
              "[Document(page_content='O P P O R T U N I T I E S\\nStudent Exchange Program\\nStudent Exchange Program offers an \\nopportunity for AIT students to learn inside \\nand outside classrooms in a partnering  \\nworld-class university. Students in this program \\nwill cultivate academic knowledge, transversal \\nskills, and  intercultural communication, and will \\nalso expand their personal and professional \\nnetworks. The duration period of this program \\nis one semester. Students are encouraged to \\ntransfer 6-12 credits of courses taken at the \\nexchange partner. Exchange scholarships are \\nalso available but are competitive. \\nInternship Program\\nAIT offers an opportunity to all students \\nenrolling in Master’s degree programs', metadata={'source': 'data/AIT-BROCHURE.pdf', 'file_path': 'data/AIT-BROCHURE.pdf', 'page': 0, 'total_pages': 2, 'format': 'PDF 1.4', 'title': '', 'author': '', 'subject': '', 'keywords': '', 'creator': 'Adobe InDesign CS5.5 (7.5)', 'producer': 'macOS Version 11.6 (Build 20G165) Quartz PDFContext', 'creationDate': \"D:20211117094024Z00'00'\", 'modDate': \"D:20211117094024Z00'00'\", 'trapped': ''}),\n",
              " Document(page_content=\"Student body\\nAIT's student body comes from more than 50 countries, with Thailand contributing to about one-third. It has always been international, with international donors offering scholarships to AIT students for capacity building.\\n\\nScholarships\\nFull Scholarships\", metadata={'source': 'data/AIT-Wiki.txt'}),\n",
              " Document(page_content='• Royal Thai Government Fellowship\\n• AIT Scholarship\\n• and more …\\nE N T R E P R E N E U R S H I P\\nAn AIT Entrepreneurship Center nurtures the \\nentrepreneurial thinking and orientation in \\nstudents, staff and faculty, and provides \\nprograms, mentorship, skills, competitions, \\nand exposure that lead to the start-up  and \\nmanagement of new innovative business \\nventures. The Center aims to enhance \\nthe Institute’s capability to impact socio-\\neconomic development through hands-\\non knowledge transfer via start-ups. An \\nEntrepreneurship minor is offered.\\nS T U D E N T\\nO P P O R T U N I T I E S\\nStudent Exchange Program\\nStudent Exchange Program offers an', metadata={'source': 'data/AIT-BROCHURE.pdf', 'file_path': 'data/AIT-BROCHURE.pdf', 'page': 0, 'total_pages': 2, 'format': 'PDF 1.4', 'title': '', 'author': '', 'subject': '', 'keywords': '', 'creator': 'Adobe InDesign CS5.5 (7.5)', 'producer': 'macOS Version 11.6 (Build 20G165) Quartz PDFContext', 'creationDate': \"D:20211117094024Z00'00'\", 'modDate': \"D:20211117094024Z00'00'\", 'trapped': ''}),\n",
              " Document(page_content='education institutions, enhancing institutional ca-\\npacities and strengthening academic communities \\nglobally. The student can pursue a regular in-person \\nDoctoral program or a program combining resid-\\nence education with flexible online delivery, through \\ninnovative Hybrid Modes of Instruction.  \\nDual Degree Programs\\nDual degree programs with international peer in-\\nstitutions allow students to study in two approved \\ndegree programs at the same time and complete \\nthe requirements of both. These programs provide \\nacademic enrichment and international mobility for \\nstudents studying in programs in combination with \\npartner universities around the world.\\nINTER-SCHOOL \\nPROGRAMS', metadata={'source': 'data/AIT-BROCHURE.pdf', 'file_path': 'data/AIT-BROCHURE.pdf', 'page': 1, 'total_pages': 2, 'format': 'PDF 1.4', 'title': '', 'author': '', 'subject': '', 'keywords': '', 'creator': 'Adobe InDesign CS5.5 (7.5)', 'producer': 'macOS Version 11.6 (Build 20G165) Quartz PDFContext', 'creationDate': \"D:20211117094024Z00'00'\", 'modDate': \"D:20211117094024Z00'00'\", 'trapped': ''})]"
            ]
          },
          "execution_count": 20,
          "metadata": {},
          "output_type": "execute_result"
        }
      ],
      "source": [
        "retriever.get_relevant_documents(\"Student Exchange Program\")\n"
      ]
    },
    {
      "cell_type": "code",
      "execution_count": 21,
      "metadata": {
        "colab": {
          "base_uri": "https://localhost:8080/"
        },
        "id": "4Ox8NZXBD_gh",
        "outputId": "61a201cf-b088-4192-fb61-a79a5dcc7bd3"
      },
      "outputs": [
        {
          "data": {
            "text/plain": [
              "[Document(page_content='Apart from academic programs in three \\nAIT Schools, these Outreach Centers are \\nthe connectors for AIT’s education and re-\\nsearch outreach with industry and society.\\nAIT Extension\\n--Executive education, lifelong learning, skill \\ndevelopment through short-courses, trainings, \\nworkshops, and seminars\\nAIT Solutions\\n- - Innovative consulting/solutions in \\nengineering, technology, environment, \\ninfrastructure, education and management\\nGeoinformatics Center \\n--Consulting and capacity building in \\napplication of Remote Sensing and \\nGeoinformatics in agriculture, disaster risk \\nmanagement, and environment\\nRegional Resource Center for Asia \\nand Pacific \\n--Advancement of Region’s environment', metadata={'source': 'data/AIT-BROCHURE.pdf', 'file_path': 'data/AIT-BROCHURE.pdf', 'page': 0, 'total_pages': 2, 'format': 'PDF 1.4', 'title': '', 'author': '', 'subject': '', 'keywords': '', 'creator': 'Adobe InDesign CS5.5 (7.5)', 'producer': 'macOS Version 11.6 (Build 20G165) Quartz PDFContext', 'creationDate': \"D:20211117094024Z00'00'\", 'modDate': \"D:20211117094024Z00'00'\", 'trapped': ''}),\n",
              " Document(page_content='It also hosts the global secretariat of the International Partnership for Expanding Waste Management Services of Local Authorities (IPLA),[23] while the regional secretariat is hosted by UN HABITAT. Four UN agencies, three international donors and five national governments are part of IPLA.[24]\\n\\nAIT has collaborated with Nobel laureate Muhammad Yunus to create a Yunus Center at AIT with an objective \"to contribute to poverty alleviation by enabling rural people to handle and be in control of improving their own livelihoods\". The Yunus Center at AIT was launched on 8 September 2009.[25] Likewise, AIT hosts Ostrom Center for Advanced Studies on Natural Resource Governance (OCeAN).', metadata={'source': 'data/AIT-Wiki.txt'}),\n",
              " Document(page_content='academic, research, and outreach programs \\nprepare graduates for professional success and \\nleadership roles in Asia and beyond. \\nFounded in 1959, AIT offers students the \\nopportunity to study at an institution in Asia \\nwhich possesses a global reputation. AIT stresses \\nits international connections, its injection of \\ninnovation into research and teaching, its \\nengagement with public and private sectors, \\nand its nurturing of entrepreneurship. AIT \\ncontinues to fulfill its capacity-building role \\nand has oriented its education and research \\nto support the United Nations Sustainable \\nDevelopment Goals (SDGs). The institute \\nemphasizes experiential learning through', metadata={'source': 'data/AIT-BROCHURE.pdf', 'file_path': 'data/AIT-BROCHURE.pdf', 'page': 1, 'total_pages': 2, 'format': 'PDF 1.4', 'title': '', 'author': '', 'subject': '', 'keywords': '', 'creator': 'Adobe InDesign CS5.5 (7.5)', 'producer': 'macOS Version 11.6 (Build 20G165) Quartz PDFContext', 'creationDate': \"D:20211117094024Z00'00'\", 'modDate': \"D:20211117094024Z00'00'\", 'trapped': ''}),\n",
              " Document(page_content='I|Ministry of Foreign Affairs, Royal Thai Government\\n United Nations, Economic and Social Council, 13 May 2011, \"New Initiative to Aid Local Governments in Managing Growing Waste Problems\" [7]\\n United Nations Centre for Regional Development (UNCRD), IPLA Official partners [8]\\n \"AIT launches Yunus Center\". Bangkok Post. 2009.\\n \"The 1989 Ramon Magsaysay Award for International Understanding\". Ramon Magsaysay Award Foundation. Archived from the original on 2011-06-10. Retrieved 2023-11-06.\\n \"CITATION for Yu Xiaogang\". Ramon Magsaysay Award Foundation. Archived from the original on 2010-01-04. Retrieved 2023-11-09.\\n \"AIT helps Thai education branding\". 7 September 2011.', metadata={'source': 'data/AIT-Wiki.txt'})]"
            ]
          },
          "execution_count": 21,
          "metadata": {},
          "output_type": "execute_result"
        }
      ],
      "source": [
        "retriever.get_relevant_documents(\"Outreach Centers\")"
      ]
    },
    {
      "cell_type": "markdown",
      "metadata": {
        "id": "AP523g3GD_gh"
      },
      "source": [
        "#### Memory"
      ]
    },
    {
      "cell_type": "code",
      "execution_count": 22,
      "metadata": {
        "colab": {
          "base_uri": "https://localhost:8080/"
        },
        "id": "Mlve90XPD_gh",
        "outputId": "878c619e-449c-4efe-eb98-17255b0f7bff"
      },
      "outputs": [
        {
          "data": {
            "text/plain": [
              "ChatMessageHistory(messages=[])"
            ]
          },
          "execution_count": 22,
          "metadata": {},
          "output_type": "execute_result"
        }
      ],
      "source": [
        "from langchain.memory import ChatMessageHistory\n",
        "\n",
        "history = ChatMessageHistory()\n",
        "history"
      ]
    },
    {
      "cell_type": "code",
      "execution_count": 23,
      "metadata": {
        "id": "yEg0XhsLD_gh"
      },
      "outputs": [],
      "source": [
        "history.add_user_message('hi')\n",
        "history.add_ai_message('Whats up?')\n",
        "history.add_user_message('How are you')\n",
        "history.add_ai_message('I\\'m quite good. How about you?')"
      ]
    },
    {
      "cell_type": "code",
      "execution_count": 24,
      "metadata": {
        "colab": {
          "base_uri": "https://localhost:8080/"
        },
        "id": "KOX1LhgBD_gh",
        "outputId": "2d58e780-4990-4474-aa32-5c7246cd15f0"
      },
      "outputs": [
        {
          "data": {
            "text/plain": [
              "ChatMessageHistory(messages=[HumanMessage(content='hi'), AIMessage(content='Whats up?'), HumanMessage(content='How are you'), AIMessage(content=\"I'm quite good. How about you?\")])"
            ]
          },
          "execution_count": 24,
          "metadata": {},
          "output_type": "execute_result"
        }
      ],
      "source": [
        "history"
      ]
    },
    {
      "cell_type": "markdown",
      "metadata": {
        "id": "ERfs4zqWD_gh"
      },
      "source": [
        "#### Memory types"
      ]
    },
    {
      "cell_type": "code",
      "execution_count": 25,
      "metadata": {
        "colab": {
          "base_uri": "https://localhost:8080/"
        },
        "id": "TCyHwIbfD_gi",
        "outputId": "70a685e1-bfcc-4407-dae7-d7e7769abecd"
      },
      "outputs": [
        {
          "data": {
            "text/plain": [
              "{'history': \"Human: hi\\nAI: What's up?\\nHuman: How are you?\\nAI: I'm quite good. How about you?\"}"
            ]
          },
          "execution_count": 25,
          "metadata": {},
          "output_type": "execute_result"
        }
      ],
      "source": [
        "from langchain.memory import ConversationBufferMemory\n",
        "\n",
        "memory = ConversationBufferMemory()\n",
        "memory.save_context({'input':'hi'}, {'output':'What\\'s up?'})\n",
        "memory.save_context({\"input\":'How are you?'},{'output': 'I\\'m quite good. How about you?'})\n",
        "memory.load_memory_variables({})"
      ]
    },
    {
      "cell_type": "code",
      "execution_count": 26,
      "metadata": {
        "colab": {
          "base_uri": "https://localhost:8080/"
        },
        "id": "kWzhQFULD_gi",
        "outputId": "8eb1d873-29f9-4a6a-db57-26e8d4abbce6"
      },
      "outputs": [
        {
          "data": {
            "text/plain": [
              "{'history': [HumanMessage(content='hi'),\n",
              "  AIMessage(content=\"What's up?\"),\n",
              "  HumanMessage(content='How are you?'),\n",
              "  AIMessage(content=\"I'm quite good. How about you?\")]}"
            ]
          },
          "execution_count": 26,
          "metadata": {},
          "output_type": "execute_result"
        }
      ],
      "source": [
        "from langchain.memory import ConversationBufferMemory\n",
        "\n",
        "memory = ConversationBufferMemory(return_messages = True)\n",
        "memory.save_context({'input':'hi'}, {'output':'What\\'s up?'})\n",
        "memory.save_context({\"input\":'How are you?'},{'output': 'I\\'m quite good. How about you?'})\n",
        "memory.load_memory_variables({})"
      ]
    },
    {
      "cell_type": "code",
      "execution_count": 27,
      "metadata": {
        "colab": {
          "base_uri": "https://localhost:8080/"
        },
        "id": "avk17ED0D_gi",
        "outputId": "1e923a53-cac8-4419-e986-46d484f92906"
      },
      "outputs": [
        {
          "data": {
            "text/plain": [
              "{'history': \"Human: How are you?\\nAI: I'm quite good. How about you?\"}"
            ]
          },
          "execution_count": 27,
          "metadata": {},
          "output_type": "execute_result"
        }
      ],
      "source": [
        "from langchain.memory import ConversationBufferWindowMemory\n",
        "\n",
        "memory = ConversationBufferWindowMemory(k=1)\n",
        "memory.save_context({'input':'hi'}, {'output':'What\\'s up?'})\n",
        "memory.save_context({\"input\":'How are you?'},{'output': 'I\\'m quite good. How about you?'})\n",
        "memory.load_memory_variables({})"
      ]
    },
    {
      "cell_type": "markdown",
      "metadata": {
        "id": "oF4SFyiKD_gi"
      },
      "source": [
        "#### Chain"
      ]
    },
    {
      "cell_type": "code",
      "execution_count": 28,
      "metadata": {
        "id": "3DRNRJqGD_gi"
      },
      "outputs": [],
      "source": [
        "# %cd ./models\n",
        "# !git clone https://huggingface.co/lmsys/fastchat-t5-3b-v1.0"
      ]
    },
    {
      "cell_type": "code",
      "execution_count": 31,
      "metadata": {
        "colab": {
          "base_uri": "https://localhost:8080/"
        },
        "id": "iWwAmTEpD_gi",
        "outputId": "d5f33e0e-48af-4e49-b1dc-713a2831c37d"
      },
      "outputs": [
        {
          "name": "stdout",
          "output_type": "stream",
          "text": [
            "2.2.1+cu121\n"
          ]
        }
      ],
      "source": [
        "print(torch.__version__)"
      ]
    },
    {
      "cell_type": "code",
      "execution_count": 32,
      "metadata": {
        "id": "-8_5H9YSD_gi"
      },
      "outputs": [],
      "source": [
        "from transformers import AutoTokenizer, pipeline, AutoModelForSeq2SeqLM\n",
        "from transformers import BitsAndBytesConfig\n",
        "from langchain import HuggingFacePipeline\n",
        "import torch\n",
        "\n",
        "model_id = './models/fastchat-t5-3b-v1.0/'\n",
        "\n",
        "tokenizer = AutoTokenizer.from_pretrained(\n",
        "    model_id)\n",
        "\n",
        "tokenizer.pad_token_id = tokenizer.eos_token_id\n",
        "\n",
        "bitsandbyte_config = BitsAndBytesConfig(\n",
        "    load_in_4bit = True,\n",
        "    bnb_4bit_quant_type = \"nf4\",\n",
        "    bnb_4bit_compute_dtype = torch.float16,\n",
        "    bnb_4bit_use_double_quant = True\n",
        ")\n",
        "\n",
        "model = AutoModelForSeq2SeqLM.from_pretrained(\n",
        "    model_id,\n",
        "    quantization_config = bitsandbyte_config, #caution Nvidia\n",
        "    device_map = 'auto',\n",
        "    load_in_8bit = True\n",
        ")\n",
        "\n",
        "pipe = pipeline(\n",
        "    task=\"text2text-generation\",\n",
        "    model=model,\n",
        "    tokenizer=tokenizer,\n",
        "    max_new_tokens = 256,\n",
        "    model_kwargs = {\n",
        "        \"temperature\" : 0,\n",
        "        \"repetition_penalty\": 1.5\n",
        "    }\n",
        ")\n",
        "\n",
        "llm = HuggingFacePipeline(pipeline = pipe)"
      ]
    },
    {
      "cell_type": "code",
      "execution_count": 33,
      "metadata": {
        "id": "oMDnOu8mD_gj"
      },
      "outputs": [],
      "source": [
        "from langchain.chains import LLMChain\n",
        "from langchain.chains.conversational_retrieval.prompts import CONDENSE_QUESTION_PROMPT\n",
        "from langchain.memory import ConversationBufferWindowMemory\n",
        "from langchain.chains.question_answering import load_qa_chain\n",
        "from langchain.chains import ConversationalRetrievalChain"
      ]
    },
    {
      "cell_type": "code",
      "execution_count": 36,
      "metadata": {
        "colab": {
          "base_uri": "https://localhost:8080/"
        },
        "id": "BOaFKilRD_gj",
        "outputId": "e59d6eac-85b1-4b18-e5a9-0caaacff62b2"
      },
      "outputs": [
        {
          "data": {
            "text/plain": [
              "PromptTemplate(input_variables=['chat_history', 'question'], template='Given the following conversation and a follow up question, rephrase the follow up question to be a standalone question, in its original language.\\n\\nChat History:\\n{chat_history}\\nFollow Up Input: {question}\\nStandalone question:')"
            ]
          },
          "execution_count": 36,
          "metadata": {},
          "output_type": "execute_result"
        }
      ],
      "source": [
        "CONDENSE_QUESTION_PROMPT"
      ]
    },
    {
      "cell_type": "code",
      "execution_count": 37,
      "metadata": {
        "id": "Zt-RVG7DD_gj"
      },
      "outputs": [],
      "source": [
        "question_generator = LLMChain(\n",
        "    llm = llm,\n",
        "    prompt = CONDENSE_QUESTION_PROMPT,\n",
        "    verbose = True\n",
        ")"
      ]
    },
    {
      "cell_type": "code",
      "execution_count": 38,
      "metadata": {
        "colab": {
          "base_uri": "https://localhost:8080/"
        },
        "id": "JRXjJSuED_gm",
        "outputId": "10a3d3b4-cd83-4d88-ef25-b33bf1d1d6d6"
      },
      "outputs": [
        {
          "name": "stderr",
          "output_type": "stream",
          "text": [
            "/usr/local/lib/python3.10/dist-packages/langchain_core/_api/deprecation.py:117: LangChainDeprecationWarning: The function `__call__` was deprecated in LangChain 0.1.0 and will be removed in 0.2.0. Use invoke instead.\n",
            "  warn_deprecated(\n"
          ]
        },
        {
          "name": "stdout",
          "output_type": "stream",
          "text": [
            "\n",
            "\n",
            "\u001b[1m> Entering new LLMChain chain...\u001b[0m\n",
            "Prompt after formatting:\n",
            "\u001b[32;1m\u001b[1;3mGiven the following conversation and a follow up question, rephrase the follow up question to be a standalone question, in its original language.\n",
            "\n",
            "Chat History:\n",
            "Human:List all faculty members of AIT:\n",
            "Follow Up Input: Comparing both of them\n",
            "Standalone question:\u001b[0m\n"
          ]
        },
        {
          "name": "stderr",
          "output_type": "stream",
          "text": [
            "Both `max_new_tokens` (=256) and `max_length`(=20) seem to have been set. `max_new_tokens` will take precedence. Please refer to the documentation for more information. (https://huggingface.co/docs/transformers/main/en/main_classes/text_generation)\n"
          ]
        },
        {
          "name": "stdout",
          "output_type": "stream",
          "text": [
            "\n",
            "\u001b[1m> Finished chain.\u001b[0m\n"
          ]
        },
        {
          "data": {
            "text/plain": [
              "{'chat_history': 'Human:List all faculty members of AIT:',\n",
              " 'question': 'Comparing both of them',\n",
              " 'text': '<pad> What  are  the  faculty  members  of  AIT  and  what  are  their  roles  and  responsibilities?\\n'}"
            ]
          },
          "execution_count": 38,
          "metadata": {},
          "output_type": "execute_result"
        }
      ],
      "source": [
        "query = 'Comparing both of them'\n",
        "chat_history = \"Human:List all faculty members of AIT:\"\n",
        "\n",
        "question_generator({'chat_history' : chat_history, \"question\" : query})"
      ]
    },
    {
      "cell_type": "code",
      "execution_count": 39,
      "metadata": {
        "colab": {
          "base_uri": "https://localhost:8080/"
        },
        "id": "TDR8SGiKOSFa",
        "outputId": "837190a2-024e-44c0-a89e-2cfb61b0dee8"
      },
      "outputs": [
        {
          "data": {
            "text/plain": [
              "StuffDocumentsChain(verbose=True, llm_chain=LLMChain(verbose=True, prompt=PromptTemplate(input_variables=['context', 'question'], template='\"Welcome to the Friendly and Assistive Informational Bot for Asian Institute of Technology!\\n   How can I assist you today? Whether you need information about programs, admission procedures, campus facilities,\\n   or anything else related to AIT, I\\'m here to help. Just ask away, and I\\'ll provide you with all the necessary details\\n   to make your experience at AIT as smooth and enjoyable as possible.\"\\n    {context}\\n    Question: {question}\\n    Answer:'), llm=HuggingFacePipeline(pipeline=<transformers.pipelines.text2text_generation.Text2TextGenerationPipeline object at 0x7a239b9cb5e0>)), document_variable_name='context')"
            ]
          },
          "execution_count": 39,
          "metadata": {},
          "output_type": "execute_result"
        }
      ],
      "source": [
        "doc_chain = load_qa_chain(\n",
        "    llm = llm,\n",
        "    chain_type = 'stuff',\n",
        "    prompt = PROMPT,\n",
        "    verbose = True\n",
        ")\n",
        "doc_chain"
      ]
    },
    {
      "cell_type": "code",
      "execution_count": 40,
      "metadata": {
        "colab": {
          "base_uri": "https://localhost:8080/"
        },
        "id": "3uGOJL5XOc5G",
        "outputId": "271e14be-356d-45b3-e363-0ef3727cb652"
      },
      "outputs": [
        {
          "name": "stderr",
          "output_type": "stream",
          "text": [
            "Both `max_new_tokens` (=256) and `max_length`(=20) seem to have been set. `max_new_tokens` will take precedence. Please refer to the documentation for more information. (https://huggingface.co/docs/transformers/main/en/main_classes/text_generation)\n"
          ]
        },
        {
          "name": "stdout",
          "output_type": "stream",
          "text": [
            "\n",
            "\n",
            "\u001b[1m> Entering new StuffDocumentsChain chain...\u001b[0m\n",
            "\n",
            "\n",
            "\u001b[1m> Entering new LLMChain chain...\u001b[0m\n",
            "Prompt after formatting:\n",
            "\u001b[32;1m\u001b[1;3m\"Welcome to the Friendly and Assistive Informational Bot for Asian Institute of Technology!\n",
            "   How can I assist you today? Whether you need information about programs, admission procedures, campus facilities,\n",
            "   or anything else related to AIT, I'm here to help. Just ask away, and I'll provide you with all the necessary details\n",
            "   to make your experience at AIT as smooth and enjoyable as possible.\"\n",
            "    Alumni\n",
            "\n",
            "Faculty\n",
            "AIT currently has 56 regular faculty members,[51] with 27 in the School of Environment, Resources and Development; 30 in School of Engineering and Technology; and six in the School of Management.\n",
            "\n",
            "In the School of Environment, Resources, and Development; ten faculty are working in Food, Agriculture & Bioresources, 12 in Development and Sustainability, and 15 in Energy, Environment and Climate Change.\n",
            "\n",
            "In the School of Engineering and Technology, 14 work in Civil and Infrastructure Engineering, seven in Industrial Systems Engineering, and nine in Information and Communication Technologies.\n",
            "\n",
            "The School of Management has six faculty members including the Dean.\n",
            "\n",
            "Meet our faculty:\n",
            "\n",
            "Prof. Ajit P. Annachhatre\n",
            "\n",
            "Dr. Alan O’Niell\n",
            "\n",
            "Dr. Amararatne Yakupitiyage\n",
            "\n",
            "Mr. Andrew Macintosh\n",
            "\n",
            "Prof. Anil Kumar Anal\n",
            "\n",
            "Dr. Anish Ghimire\n",
            "\n",
            "Dr. Atikorn Panya\n",
            "\n",
            "Prof. ATM Nurul Amin\n",
            "\n",
            "Dr. Attaphongse Taparugssanagorn\n",
            "\n",
            "Dr. Avirut PuttiwongrakShow filters\n",
            "\n",
            "Prof. Bonaventura H. W. Hadikusumo\n",
            "\n",
            "Mr. Burin Kunatippapong\n",
            "\n",
            "Dr. Chaiwut Gamonpilas\n",
            "\n",
            "Dr. Chaklam Silpasuwanchai\n",
            "\n",
            "Dr. Chantri Polprasert\n",
            "\n",
            "Mr. Charnkurt Yaoyuenyong\n",
            "\n",
            "Prof. Chettiyappan Visvanathan\n",
            "\n",
            "Prof. Chongrak Polprasert\n",
            "\n",
            "Mr. Chris Lobello\n",
            "\n",
            "Prof. Christian Brockmann\n",
            "\n",
            "Dr. Chutiporn Anutariya\n",
            "\n",
            "Prof. Deepak Sharma\n",
            "\n",
            "Prof. Dieter Trau\n",
            "\n",
            "Dr. Djoen San Santoso\n",
            "\n",
            "Mr. Duke Malan\n",
            "\n",
            "Dr. Ekbordin Winijkul\n",
            "\n",
            "Dr. Farhad Zulfiqar\n",
            "\n",
            "33.  \tBabel, Mukand\tProfessor\tIndia\n",
            "34.  \tShrestha, Sangam\tAssociate Professor\tNepal\n",
            "35.  \tShanmugam, Mohana\tAssistant Professor\tIndia\n",
            "    Question: Who are the faculty?\n",
            "    Answer:\u001b[0m\n",
            "\n",
            "\u001b[1m> Finished chain.\u001b[0m\n",
            "\n",
            "\u001b[1m> Finished chain.\u001b[0m\n"
          ]
        },
        {
          "data": {
            "text/plain": [
              "{'input_documents': [Document(page_content='Alumni', metadata={'source': 'data/AIT-Wiki.txt'}),\n",
              "  Document(page_content='Faculty\\nAIT currently has 56 regular faculty members,[51] with 27 in the School of Environment, Resources and Development; 30 in School of Engineering and Technology; and six in the School of Management.\\n\\nIn the School of Environment, Resources, and Development; ten faculty are working in Food, Agriculture & Bioresources, 12 in Development and Sustainability, and 15 in Energy, Environment and Climate Change.\\n\\nIn the School of Engineering and Technology, 14 work in Civil and Infrastructure Engineering, seven in Industrial Systems Engineering, and nine in Information and Communication Technologies.\\n\\nThe School of Management has six faculty members including the Dean.', metadata={'source': 'data/AIT-Wiki.txt'}),\n",
              "  Document(page_content='Meet our faculty:\\n\\nProf. Ajit P. Annachhatre\\n\\nDr. Alan O’Niell\\n\\nDr. Amararatne Yakupitiyage\\n\\nMr. Andrew Macintosh\\n\\nProf. Anil Kumar Anal\\n\\nDr. Anish Ghimire\\n\\nDr. Atikorn Panya\\n\\nProf. ATM Nurul Amin\\n\\nDr. Attaphongse Taparugssanagorn\\n\\nDr. Avirut PuttiwongrakShow filters\\n\\nProf. Bonaventura H. W. Hadikusumo\\n\\nMr. Burin Kunatippapong\\n\\nDr. Chaiwut Gamonpilas\\n\\nDr. Chaklam Silpasuwanchai\\n\\nDr. Chantri Polprasert\\n\\nMr. Charnkurt Yaoyuenyong\\n\\nProf. Chettiyappan Visvanathan\\n\\nProf. Chongrak Polprasert\\n\\nMr. Chris Lobello\\n\\nProf. Christian Brockmann\\n\\nDr. Chutiporn Anutariya\\n\\nProf. Deepak Sharma\\n\\nProf. Dieter Trau\\n\\nDr. Djoen San Santoso\\n\\nMr. Duke Malan\\n\\nDr. Ekbordin Winijkul\\n\\nDr. Farhad Zulfiqar', metadata={'source': 'data/AIT-Wiki.txt'}),\n",
              "  Document(page_content='33.  \\tBabel, Mukand\\tProfessor\\tIndia\\n34.  \\tShrestha, Sangam\\tAssociate Professor\\tNepal\\n35.  \\tShanmugam, Mohana\\tAssistant Professor\\tIndia', metadata={'source': 'data/AIT-Wiki.txt'})],\n",
              " 'question': 'Who are the faculty?',\n",
              " 'output_text': '<pad> Answer:  Prof.  Ajit  P.  Annachhatre,  Dr.  Alan  O’Niell,  Dr.  Amararatne  Yakupitiyage,  Mr.  Andrew  Macintosh,  Prof.  Anil  Kumar  Anal,  Dr.  Anish  Ghimire,  Dr.  Atikorn  Panya,  Prof.  ATM  Nurul  Amin,  Dr.  Attaphongse  Taparugssanagorn,  Dr.  Avirut  Puttiwongrak,  Prof.  Bonaventura  H.  W.  Hadikusumo,  Mr.  Burin  Kunatippapong,  Dr.  Chaiwut  Gamonpilas,  Dr.  Chaklam  Silpasuwanchai,  Dr.  Chantri  Polprasert,  Mr.  Charnkurt  Yaoyuenyong,  Prof.  Chettiyappan  Visvanathan,  Prof.  C'}"
            ]
          },
          "execution_count": 40,
          "metadata": {},
          "output_type": "execute_result"
        }
      ],
      "source": [
        "query = \"Who are the faculty?\"\n",
        "input_document = retriever.get_relevant_documents(query)\n",
        "\n",
        "doc_chain({'input_documents':input_document, 'question':query})"
      ]
    },
    {
      "cell_type": "code",
      "execution_count": 41,
      "metadata": {
        "colab": {
          "base_uri": "https://localhost:8080/"
        },
        "id": "DtrhoJSgO6VU",
        "outputId": "1de3fffa-44e1-40da-c670-bfcedb0e6146"
      },
      "outputs": [
        {
          "data": {
            "text/plain": [
              "ConversationalRetrievalChain(memory=ConversationBufferWindowMemory(output_key='answer', return_messages=True, memory_key='chat_history', k=3), verbose=True, combine_docs_chain=StuffDocumentsChain(verbose=True, llm_chain=LLMChain(verbose=True, prompt=PromptTemplate(input_variables=['context', 'question'], template='\"Welcome to the Friendly and Assistive Informational Bot for Asian Institute of Technology!\\n   How can I assist you today? Whether you need information about programs, admission procedures, campus facilities,\\n   or anything else related to AIT, I\\'m here to help. Just ask away, and I\\'ll provide you with all the necessary details\\n   to make your experience at AIT as smooth and enjoyable as possible.\"\\n    {context}\\n    Question: {question}\\n    Answer:'), llm=HuggingFacePipeline(pipeline=<transformers.pipelines.text2text_generation.Text2TextGenerationPipeline object at 0x7a239b9cb5e0>)), document_variable_name='context'), question_generator=LLMChain(verbose=True, prompt=PromptTemplate(input_variables=['chat_history', 'question'], template='Given the following conversation and a follow up question, rephrase the follow up question to be a standalone question, in its original language.\\n\\nChat History:\\n{chat_history}\\nFollow Up Input: {question}\\nStandalone question:'), llm=HuggingFacePipeline(pipeline=<transformers.pipelines.text2text_generation.Text2TextGenerationPipeline object at 0x7a239b9cb5e0>)), return_source_documents=True, get_chat_history=<function <lambda> at 0x7a22e16d93f0>, retriever=VectorStoreRetriever(tags=['FAISS', 'HuggingFaceInstructEmbeddings'], vectorstore=<langchain_community.vectorstores.faiss.FAISS object at 0x7a23f0c97ca0>))"
            ]
          },
          "execution_count": 41,
          "metadata": {},
          "output_type": "execute_result"
        }
      ],
      "source": [
        "memory = ConversationBufferWindowMemory(\n",
        "    k=3,\n",
        "    memory_key = \"chat_history\",\n",
        "    return_messages = True,\n",
        "    output_key = 'answer'\n",
        ")\n",
        "\n",
        "chain = ConversationalRetrievalChain(\n",
        "    retriever=retriever,\n",
        "    question_generator=question_generator,\n",
        "    combine_docs_chain=doc_chain,\n",
        "    return_source_documents=True,\n",
        "    memory=memory,\n",
        "    verbose=True,\n",
        "    get_chat_history=lambda h : h\n",
        ")\n",
        "chain"
      ]
    },
    {
      "cell_type": "markdown",
      "metadata": {
        "id": "NockkiEOPMyx"
      },
      "source": [
        "#### Chatbot"
      ]
    },
    {
      "cell_type": "code",
      "execution_count": 42,
      "metadata": {
        "colab": {
          "base_uri": "https://localhost:8080/"
        },
        "id": "MIQVgJu2PJ8x",
        "outputId": "8b117ec4-3650-42b7-e76e-e2fc85550bb8"
      },
      "outputs": [
        {
          "name": "stdout",
          "output_type": "stream",
          "text": [
            "\n",
            "\n",
            "\u001b[1m> Entering new ConversationalRetrievalChain chain...\u001b[0m\n",
            "\n",
            "\n",
            "\u001b[1m> Entering new StuffDocumentsChain chain...\u001b[0m\n",
            "\n",
            "\n",
            "\u001b[1m> Entering new LLMChain chain...\u001b[0m\n",
            "Prompt after formatting:\n",
            "\u001b[32;1m\u001b[1;3m\"Welcome to the Friendly and Assistive Informational Bot for Asian Institute of Technology!\n",
            "   How can I assist you today? Whether you need information about programs, admission procedures, campus facilities,\n",
            "   or anything else related to AIT, I'm here to help. Just ask away, and I'll provide you with all the necessary details\n",
            "   to make your experience at AIT as smooth and enjoyable as possible.\"\n",
            "    Meet our faculty:\n",
            "\n",
            "Prof. Ajit P. Annachhatre\n",
            "\n",
            "Dr. Alan O’Niell\n",
            "\n",
            "Dr. Amararatne Yakupitiyage\n",
            "\n",
            "Mr. Andrew Macintosh\n",
            "\n",
            "Prof. Anil Kumar Anal\n",
            "\n",
            "Dr. Anish Ghimire\n",
            "\n",
            "Dr. Atikorn Panya\n",
            "\n",
            "Prof. ATM Nurul Amin\n",
            "\n",
            "Dr. Attaphongse Taparugssanagorn\n",
            "\n",
            "Dr. Avirut PuttiwongrakShow filters\n",
            "\n",
            "Prof. Bonaventura H. W. Hadikusumo\n",
            "\n",
            "Mr. Burin Kunatippapong\n",
            "\n",
            "Dr. Chaiwut Gamonpilas\n",
            "\n",
            "Dr. Chaklam Silpasuwanchai\n",
            "\n",
            "Dr. Chantri Polprasert\n",
            "\n",
            "Mr. Charnkurt Yaoyuenyong\n",
            "\n",
            "Prof. Chettiyappan Visvanathan\n",
            "\n",
            "Prof. Chongrak Polprasert\n",
            "\n",
            "Mr. Chris Lobello\n",
            "\n",
            "Prof. Christian Brockmann\n",
            "\n",
            "Dr. Chutiporn Anutariya\n",
            "\n",
            "Prof. Deepak Sharma\n",
            "\n",
            "Prof. Dieter Trau\n",
            "\n",
            "Dr. Djoen San Santoso\n",
            "\n",
            "Mr. Duke Malan\n",
            "\n",
            "Dr. Ekbordin Winijkul\n",
            "\n",
            "Dr. Farhad Zulfiqar\n",
            "\n",
            "Chiu, Gregory L.F.\n",
            "B.S.C.E., University of Washington, Washington, USA, M.Sc., Columbia University, New York, USA ; Ph.D., Stanford University, California, USA\n",
            "Professor of Practice, Offshore Technology and Management Program, School of Engineering & Technology\n",
            "\n",
            "Dailey, Matthew M.\n",
            "B.S., M.S., North Carolina State Univ., USA ; Ph.D., Univ. of California, USA.\n",
            "Associate Professor and Department Head, Computer Science and Information Management Field of Study and Coordinator, Undergraduate Program, School of Engineering and Technology\n",
            "\n",
            "Alumni\n",
            "\n",
            "Doneys, Philippe\n",
            "B.A., Univ. of Toronto, Canada; M.A., Univ. of London, England; Ph.D., Institut d’ Etudes Politiques de Paris, France\n",
            "Associate Professor, Gender & Development Studies Field of Study, School of Environment, Resources & Development\n",
            "\n",
            "Duc, Hoang Nguyen\n",
            "B.Eng., Water Resources Univ., Vietnam; M.Sc., UNESCO-IHE Institute for Water Education, The Netherlands; Ph.D., Tokyo Metropolitan Univ., Japan\n",
            "Assistant Professor, Water Engineering & Management Field of Study, School of Engineering & Technology\n",
            "\n",
            "Dung, Phan Minh\n",
            "M.Sc., Ph.D., Univ. of Tech., Dresden, Germany\n",
            "Professor, Computer Science and Information Management Field of Study, School of Engineering & Technology\n",
            "    Question: Who are you by the way?\n",
            "    Answer:\u001b[0m\n"
          ]
        },
        {
          "name": "stderr",
          "output_type": "stream",
          "text": [
            "Both `max_new_tokens` (=256) and `max_length`(=20) seem to have been set. `max_new_tokens` will take precedence. Please refer to the documentation for more information. (https://huggingface.co/docs/transformers/main/en/main_classes/text_generation)\n"
          ]
        },
        {
          "name": "stdout",
          "output_type": "stream",
          "text": [
            "\n",
            "\u001b[1m> Finished chain.\u001b[0m\n",
            "\n",
            "\u001b[1m> Finished chain.\u001b[0m\n",
            "\n",
            "\u001b[1m> Finished chain.\u001b[0m\n"
          ]
        },
        {
          "data": {
            "text/plain": [
              "{'question': 'Who are you by the way?',\n",
              " 'chat_history': [],\n",
              " 'answer': \"<pad>  I  am  an  AI  language  model  created  to  assist  users  with  information  about  Asian  Institute  of  Technology.  I  am  designed  to  provide  helpful  and  informative  responses  to  your  questions  and  queries  related  to  the  school.  I  am  here  to  help  you  with  any  information  you  need  about  programs,  admission  procedures,  campus  facilities,  or  anything  else  related  to  AIT.  Just  ask  away  and  I'll  do  my  best  to  assist  you.\\n\",\n",
              " 'source_documents': [Document(page_content='Meet our faculty:\\n\\nProf. Ajit P. Annachhatre\\n\\nDr. Alan O’Niell\\n\\nDr. Amararatne Yakupitiyage\\n\\nMr. Andrew Macintosh\\n\\nProf. Anil Kumar Anal\\n\\nDr. Anish Ghimire\\n\\nDr. Atikorn Panya\\n\\nProf. ATM Nurul Amin\\n\\nDr. Attaphongse Taparugssanagorn\\n\\nDr. Avirut PuttiwongrakShow filters\\n\\nProf. Bonaventura H. W. Hadikusumo\\n\\nMr. Burin Kunatippapong\\n\\nDr. Chaiwut Gamonpilas\\n\\nDr. Chaklam Silpasuwanchai\\n\\nDr. Chantri Polprasert\\n\\nMr. Charnkurt Yaoyuenyong\\n\\nProf. Chettiyappan Visvanathan\\n\\nProf. Chongrak Polprasert\\n\\nMr. Chris Lobello\\n\\nProf. Christian Brockmann\\n\\nDr. Chutiporn Anutariya\\n\\nProf. Deepak Sharma\\n\\nProf. Dieter Trau\\n\\nDr. Djoen San Santoso\\n\\nMr. Duke Malan\\n\\nDr. Ekbordin Winijkul\\n\\nDr. Farhad Zulfiqar', metadata={'source': 'data/AIT-Wiki.txt'}),\n",
              "  Document(page_content='Chiu, Gregory L.F.\\nB.S.C.E., University of Washington, Washington, USA, M.Sc., Columbia University, New York, USA ; Ph.D., Stanford University, California, USA\\nProfessor of Practice, Offshore Technology and Management Program, School of Engineering & Technology\\n\\nDailey, Matthew M.\\nB.S., M.S., North Carolina State Univ., USA ; Ph.D., Univ. of California, USA.\\nAssociate Professor and Department Head, Computer Science and Information Management Field of Study and Coordinator, Undergraduate Program, School of Engineering and Technology', metadata={'source': 'data/AIT-Wiki.txt'}),\n",
              "  Document(page_content='Alumni', metadata={'source': 'data/AIT-Wiki.txt'}),\n",
              "  Document(page_content='Doneys, Philippe\\nB.A., Univ. of Toronto, Canada; M.A., Univ. of London, England; Ph.D., Institut d’ Etudes Politiques de Paris, France\\nAssociate Professor, Gender & Development Studies Field of Study, School of Environment, Resources & Development\\n\\nDuc, Hoang Nguyen\\nB.Eng., Water Resources Univ., Vietnam; M.Sc., UNESCO-IHE Institute for Water Education, The Netherlands; Ph.D., Tokyo Metropolitan Univ., Japan\\nAssistant Professor, Water Engineering & Management Field of Study, School of Engineering & Technology\\n\\nDung, Phan Minh\\nM.Sc., Ph.D., Univ. of Tech., Dresden, Germany\\nProfessor, Computer Science and Information Management Field of Study, School of Engineering & Technology', metadata={'source': 'data/AIT-Wiki.txt'})]}"
            ]
          },
          "execution_count": 42,
          "metadata": {},
          "output_type": "execute_result"
        }
      ],
      "source": [
        "prompt_question = \"Who are you by the way?\"\n",
        "answer = chain({\"question\":prompt_question})\n",
        "answer"
      ]
    },
    {
      "cell_type": "code",
      "execution_count": 44,
      "metadata": {
        "colab": {
          "base_uri": "https://localhost:8080/"
        },
        "id": "t_4NAZvFPQJJ",
        "outputId": "a84c3fff-47c7-4320-b6d8-ef3f0abc3de9"
      },
      "outputs": [
        {
          "data": {
            "text/plain": [
              "dict_keys(['question', 'chat_history', 'answer', 'source_documents'])"
            ]
          },
          "execution_count": 44,
          "metadata": {},
          "output_type": "execute_result"
        }
      ],
      "source": [
        "answer.keys()"
      ]
    },
    {
      "cell_type": "code",
      "execution_count": 47,
      "metadata": {
        "colab": {
          "base_uri": "https://localhost:8080/",
          "height": 88
        },
        "id": "KDRvwRZymv6M",
        "outputId": "e93da386-864c-4322-8999-5420140923b4"
      },
      "outputs": [
        {
          "data": {
            "application/vnd.google.colaboratory.intrinsic+json": {
              "type": "string"
            },
            "text/plain": [
              "\"I  am  an  AI  language  model  created  to  assist  users  with  information  about  Asian  Institute  of  Technology.  I  am  designed  to  provide  helpful  and  informative  responses  to  your  questions  and  queries  related  to  the  school.  I  am  here  to  help  you  with  any  information  you  need  about  programs,  admission  procedures,  campus  facilities,  or  anything  else  related  to  AIT.  Just  ask  away  and  I'll  do  my  best  to  assist  you.\""
            ]
          },
          "execution_count": 47,
          "metadata": {},
          "output_type": "execute_result"
        }
      ],
      "source": [
        "answer['answer'].replace('<pad>', '').strip()"
      ]
    },
    {
      "cell_type": "code",
      "execution_count": 48,
      "metadata": {
        "colab": {
          "base_uri": "https://localhost:8080/",
          "height": 1000
        },
        "id": "Iu2WayaZm0CG",
        "outputId": "a771e1c5-d291-4c11-fdb8-7a8edb2665de"
      },
      "outputs": [
        {
          "name": "stderr",
          "output_type": "stream",
          "text": [
            "Both `max_new_tokens` (=256) and `max_length`(=20) seem to have been set. `max_new_tokens` will take precedence. Please refer to the documentation for more information. (https://huggingface.co/docs/transformers/main/en/main_classes/text_generation)\n"
          ]
        },
        {
          "name": "stdout",
          "output_type": "stream",
          "text": [
            "\n",
            "\n",
            "\u001b[1m> Entering new ConversationalRetrievalChain chain...\u001b[0m\n",
            "\n",
            "\n",
            "\u001b[1m> Entering new LLMChain chain...\u001b[0m\n",
            "Prompt after formatting:\n",
            "\u001b[32;1m\u001b[1;3mGiven the following conversation and a follow up question, rephrase the follow up question to be a standalone question, in its original language.\n",
            "\n",
            "Chat History:\n",
            "[HumanMessage(content='Who are you by the way?'), AIMessage(content=\"<pad>  I  am  an  AI  language  model  created  to  assist  users  with  information  about  Asian  Institute  of  Technology.  I  am  designed  to  provide  helpful  and  informative  responses  to  your  questions  and  queries  related  to  the  school.  I  am  here  to  help  you  with  any  information  you  need  about  programs,  admission  procedures,  campus  facilities,  or  anything  else  related  to  AIT.  Just  ask  away  and  I'll  do  my  best  to  assist  you.\\n\")]\n",
            "Follow Up Input: List all the faculties of AIT\n",
            "Standalone question:\u001b[0m\n",
            "\n",
            "\u001b[1m> Finished chain.\u001b[0m\n",
            "\n",
            "\n",
            "\u001b[1m> Entering new StuffDocumentsChain chain...\u001b[0m\n",
            "\n",
            "\n",
            "\u001b[1m> Entering new LLMChain chain...\u001b[0m\n",
            "Prompt after formatting:\n",
            "\u001b[32;1m\u001b[1;3m\"Welcome to the Friendly and Assistive Informational Bot for Asian Institute of Technology!\n",
            "   How can I assist you today? Whether you need information about programs, admission procedures, campus facilities,\n",
            "   or anything else related to AIT, I'm here to help. Just ask away, and I'll provide you with all the necessary details\n",
            "   to make your experience at AIT as smooth and enjoyable as possible.\"\n",
            "    In the QS World University Rankings by Subject 2020, AIT ranked 2nd in Thailand in Engineering and Technology,[12] 151-200th in the world in Environmental Studies[13] and in Architecture & Built Environment,[14] and 201-250th in the world in Civil and Structural Engineering[15] and in Agricultural and Forestry.[16]\n",
            "\n",
            "Location\n",
            "AIT operates as a self-contained international community at its campus in Pathumthani Province, some 40 kilometres (25 mi) north of Bangkok, Thailand. Besides laboratories and academic buildings, the main campus includes housing, sports, and medical facilities, a conference center, and a library with over 230,000 volumes and 830 print and online periodicals.\n",
            "\n",
            "It also hosts the global secretariat of the International Partnership for Expanding Waste Management Services of Local Authorities (IPLA),[23] while the regional secretariat is hosted by UN HABITAT. Four UN agencies, three international donors and five national governments are part of IPLA.[24]\n",
            "\n",
            "AIT has collaborated with Nobel laureate Muhammad Yunus to create a Yunus Center at AIT with an objective \"to contribute to poverty alleviation by enabling rural people to handle and be in control of improving their own livelihoods\". The Yunus Center at AIT was launched on 8 September 2009.[25] Likewise, AIT hosts Ostrom Center for Advanced Studies on Natural Resource Governance (OCeAN).\n",
            "\n",
            "AIT was hosted by the Faculty of Engineering, Chulalongkorn University, Thailand, before it moved to its present campus in November 1973. Currently, it is located in the Rangsit area next to Thammasat University (Rangsit Campus), about 65 kilometers from the Suvarnabhumi Airport.\n",
            "\n",
            "AIT has a remote campus called AIT Center in Vietnam. It was established in 1993 under the memorandum of understanding between the Vietnam Ministry of Education and Training and the AIT.[17] At that time AITCV was the first international institution in Vietnam and the first AIT campus outside Thailand.\n",
            "\n",
            "Faculty\n",
            "AIT currently has 56 regular faculty members,[51] with 27 in the School of Environment, Resources and Development; 30 in School of Engineering and Technology; and six in the School of Management.\n",
            "\n",
            "In the School of Environment, Resources, and Development; ten faculty are working in Food, Agriculture & Bioresources, 12 in Development and Sustainability, and 15 in Energy, Environment and Climate Change.\n",
            "\n",
            "In the School of Engineering and Technology, 14 work in Civil and Infrastructure Engineering, seven in Industrial Systems Engineering, and nine in Information and Communication Technologies.\n",
            "\n",
            "The School of Management has six faculty members including the Dean.\n",
            "    Question: <pad> What  are  the  different  faculties  at  AIT?\n",
            "\n",
            "    Answer:\u001b[0m\n"
          ]
        },
        {
          "name": "stderr",
          "output_type": "stream",
          "text": [
            "Both `max_new_tokens` (=256) and `max_length`(=20) seem to have been set. `max_new_tokens` will take precedence. Please refer to the documentation for more information. (https://huggingface.co/docs/transformers/main/en/main_classes/text_generation)\n"
          ]
        },
        {
          "name": "stdout",
          "output_type": "stream",
          "text": [
            "\n",
            "\u001b[1m> Finished chain.\u001b[0m\n",
            "\n",
            "\u001b[1m> Finished chain.\u001b[0m\n",
            "\n",
            "\u001b[1m> Finished chain.\u001b[0m\n"
          ]
        },
        {
          "data": {
            "application/vnd.google.colaboratory.intrinsic+json": {
              "type": "string"
            },
            "text/plain": [
              "'html>\\n School  of  Environment,  Resources  and  Development\\n School  of  Engineering  and  Technology\\n School  of  Management'"
            ]
          },
          "execution_count": 48,
          "metadata": {},
          "output_type": "execute_result"
        }
      ],
      "source": [
        "prompt_question = \"List all the faculties of AIT\"\n",
        "answer = chain({\"question\":prompt_question})\n"
      ]
    },
    {
      "cell_type": "code",
      "execution_count": 49,
      "metadata": {
        "colab": {
          "base_uri": "https://localhost:8080/",
          "height": 36
        },
        "id": "GZUHtY0hoFoz",
        "outputId": "8c595d27-f4f7-470d-9e2e-4f2da7f934c5"
      },
      "outputs": [
        {
          "data": {
            "application/vnd.google.colaboratory.intrinsic+json": {
              "type": "string"
            },
            "text/plain": [
              "'html>\\n School  of  Environment,  Resources  and  Development\\n School  of  Engineering  and  Technology\\n School  of  Management'"
            ]
          },
          "execution_count": 49,
          "metadata": {},
          "output_type": "execute_result"
        }
      ],
      "source": [
        "answer['answer'].replace('<pad>', '').strip()"
      ]
    },
    {
      "cell_type": "code",
      "execution_count": 50,
      "metadata": {
        "colab": {
          "base_uri": "https://localhost:8080/"
        },
        "id": "P6lT1mFooMBz",
        "outputId": "d95b8b8f-dc88-4e6e-db62-0061c9b12fdb"
      },
      "outputs": [
        {
          "name": "stdout",
          "output_type": "stream",
          "text": [
            "\n",
            "\n",
            "\u001b[1m> Entering new ConversationalRetrievalChain chain...\u001b[0m\n",
            "\n",
            "\n",
            "\u001b[1m> Entering new LLMChain chain...\u001b[0m\n",
            "Prompt after formatting:\n",
            "\u001b[32;1m\u001b[1;3mGiven the following conversation and a follow up question, rephrase the follow up question to be a standalone question, in its original language.\n",
            "\n",
            "Chat History:\n",
            "[HumanMessage(content='Who are you by the way?'), AIMessage(content=\"<pad>  I  am  an  AI  language  model  created  to  assist  users  with  information  about  Asian  Institute  of  Technology.  I  am  designed  to  provide  helpful  and  informative  responses  to  your  questions  and  queries  related  to  the  school.  I  am  here  to  help  you  with  any  information  you  need  about  programs,  admission  procedures,  campus  facilities,  or  anything  else  related  to  AIT.  Just  ask  away  and  I'll  do  my  best  to  assist  you.\\n\"), HumanMessage(content='List all the faculties of AIT'), AIMessage(content='<pad>   html>\\n School  of  Environment,  Resources  and  Development\\n School  of  Engineering  and  Technology\\n School  of  Management\\n')]\n",
            "Follow Up Input: Provide the brief history of AIT\n",
            "Standalone question:\u001b[0m\n"
          ]
        },
        {
          "name": "stderr",
          "output_type": "stream",
          "text": [
            "Both `max_new_tokens` (=256) and `max_length`(=20) seem to have been set. `max_new_tokens` will take precedence. Please refer to the documentation for more information. (https://huggingface.co/docs/transformers/main/en/main_classes/text_generation)\n"
          ]
        },
        {
          "name": "stdout",
          "output_type": "stream",
          "text": [
            "\n",
            "\u001b[1m> Finished chain.\u001b[0m\n",
            "\n",
            "\n",
            "\u001b[1m> Entering new StuffDocumentsChain chain...\u001b[0m\n",
            "\n",
            "\n",
            "\u001b[1m> Entering new LLMChain chain...\u001b[0m\n",
            "Prompt after formatting:\n",
            "\u001b[32;1m\u001b[1;3m\"Welcome to the Friendly and Assistive Informational Bot for Asian Institute of Technology!\n",
            "   How can I assist you today? Whether you need information about programs, admission procedures, campus facilities,\n",
            "   or anything else related to AIT, I'm here to help. Just ask away, and I'll provide you with all the necessary details\n",
            "   to make your experience at AIT as smooth and enjoyable as possible.\"\n",
            "    Asian Institute of Technology\n",
            "The Asian Institute of Technology (AIT), founded in 1959, is an international organization for higher education situated 40km north of Bangkok, Thailand. It specializes in engineering, advanced technologies, sustainable development, and management and planning. It aims to promote technological change and sustainable development in the Asia-Pacific region, through higher education, research, and outreach.[1]\n",
            "\n",
            "History\n",
            "Founded in 1959 as SEATO Graduate School of Engineering, it receives funding from organizations and governments around the world.\n",
            "\n",
            "Asian Institute of Technology\n",
            "\n",
            "Article\n",
            "Talk\n",
            "Read\n",
            "Edit\n",
            "View history\n",
            "\n",
            "Tools\n",
            "Coordinates: 14°04′44.82″N 100°36′40.88″E\n",
            "From Wikipedia, the free encyclopedia\n",
            "\n",
            "This article contains content that is written like an advertisement. Please help improve it by removing promotional content and inappropriate external links, and by adding encyclopedic content written from a neutral point of view. (January 2021) (Learn how and when to remove this template message)\n",
            "Asian Institute of Technology\n",
            "AIT\n",
            "\n",
            "References\n",
            " \"Asian Institute of Technology: Private Company Information\". BloombergBusiness. Archived from the original on February 11, 2010. Retrieved 17 July 2015.\n",
            " A Unique Contribution to Engineering Education in Asia: The Asian Institute of Technology. [1]\n",
            " \"AIT, Thammasat Rangsit inundated\". The Nation. 22 October 2011. Retrieved 17 July 2015.\n",
            " AIT returns home\n",
            " HRH Princess Maha Chakri Sirindhorn attends the AIT’s 60th Anniversary fair\n",
            " \"AIT Opens Research Centre\". Bangkok Post.\n",
            " \"Board of Trustees\". Asian Institute of Technology. Retrieved 30 July 2023.\n",
            " AIT Board of Trustees AIT Board of Trustees\n",
            " Impact Rankings 2021. Times Higher Education. Retrieved on May 4, 2021.\n",
            "\n",
            "• United Nations Economic and Social  \n",
            "Commission for Asia and the Pacific\n",
            "• United States Agency for International Development \n",
            "• World Bank\n",
            "• and more …\n",
            "P A R T N E R S  \n",
            "A B O U T\n",
            "A I T\n",
            "The Asian Institute of Technology (AIT) is an \n",
            "international English-speaking postgraduate \n",
            "institution, providing engineering, environment, \n",
            "and management education and research, \n",
            "focusing on Sustainability and Social Impact \n",
            "issues. Our current strategic themed areas \n",
            "are: Climate Change; Smart Communities; \n",
            "Food- Energy-Water; Infrastr ucture; and \n",
            "Technology, Policy and Society. AIT’s rigorous \n",
            "academic, research, and outreach programs \n",
            "prepare graduates for professional success and\n",
            "    Question: <pad>  What  is  the  history  of  Asian  Institute  of  Technology?\n",
            "\n",
            "    Answer:\u001b[0m\n"
          ]
        },
        {
          "name": "stderr",
          "output_type": "stream",
          "text": [
            "Both `max_new_tokens` (=256) and `max_length`(=20) seem to have been set. `max_new_tokens` will take precedence. Please refer to the documentation for more information. (https://huggingface.co/docs/transformers/main/en/main_classes/text_generation)\n"
          ]
        },
        {
          "name": "stdout",
          "output_type": "stream",
          "text": [
            "\n",
            "\u001b[1m> Finished chain.\u001b[0m\n",
            "\n",
            "\u001b[1m> Finished chain.\u001b[0m\n",
            "\n",
            "\u001b[1m> Finished chain.\u001b[0m\n"
          ]
        }
      ],
      "source": [
        "prompt_question = \"Provide the brief history of AIT\"\n",
        "answer = chain({\"question\":prompt_question})\n"
      ]
    },
    {
      "cell_type": "code",
      "execution_count": 53,
      "metadata": {
        "colab": {
          "base_uri": "https://localhost:8080/",
          "height": 122
        },
        "id": "NnK1-4e_o1Zr",
        "outputId": "a50d196a-f914-4b71-e719-7504f7455fb9"
      },
      "outputs": [
        {
          "data": {
            "application/vnd.google.colaboratory.intrinsic+json": {
              "type": "string"
            },
            "text/plain": [
              "'< pad>\\n The  Asian  Institute  of  Technology  (AIT)  was  founded  in  1959  as  SEATO  Graduate  School  of  Engineering.  It  was  established  to  provide  engineering  education  and  research  to  students  from  Southeast  Asia  and  the  Pacific  region.  The  school  was  initially  located  in  Bangkok,  Thailand,  but  it  later  moved  to  Thammasat  Rangsit,  a  city  located  40km  north  of  Bangkok.  The  school  was  renamed  to  Asian  Institute  of  Technology  (AIT)  in  1985.  Today,  AIT  is  an  international  organization  for  higher  education  situated  40km  north  of  Bangkok,  Thailand.  It  specializes  in  engineering,  advanced  technologies,  sustainable  development,  and  management  and  planning.  It  aims  to  promote  technological  change  and  sustainable  development  in  the  Asia-Pacific'"
            ]
          },
          "execution_count": 53,
          "metadata": {},
          "output_type": "execute_result"
        }
      ],
      "source": [
        "answer['answer'].replace('<pad>', '').strip()"
      ]
    },
    {
      "cell_type": "code",
      "execution_count": 54,
      "metadata": {
        "colab": {
          "base_uri": "https://localhost:8080/"
        },
        "id": "pINPN0dSo-aZ",
        "outputId": "38fe92e9-913e-4b2a-cc57-0baca57277a3"
      },
      "outputs": [
        {
          "name": "stderr",
          "output_type": "stream",
          "text": [
            "Both `max_new_tokens` (=256) and `max_length`(=20) seem to have been set. `max_new_tokens` will take precedence. Please refer to the documentation for more information. (https://huggingface.co/docs/transformers/main/en/main_classes/text_generation)\n"
          ]
        },
        {
          "name": "stdout",
          "output_type": "stream",
          "text": [
            "\n",
            "\n",
            "\u001b[1m> Entering new ConversationalRetrievalChain chain...\u001b[0m\n",
            "\n",
            "\n",
            "\u001b[1m> Entering new LLMChain chain...\u001b[0m\n",
            "Prompt after formatting:\n",
            "\u001b[32;1m\u001b[1;3mGiven the following conversation and a follow up question, rephrase the follow up question to be a standalone question, in its original language.\n",
            "\n",
            "Chat History:\n",
            "[HumanMessage(content='Who are you by the way?'), AIMessage(content=\"<pad>  I  am  an  AI  language  model  created  to  assist  users  with  information  about  Asian  Institute  of  Technology.  I  am  designed  to  provide  helpful  and  informative  responses  to  your  questions  and  queries  related  to  the  school.  I  am  here  to  help  you  with  any  information  you  need  about  programs,  admission  procedures,  campus  facilities,  or  anything  else  related  to  AIT.  Just  ask  away  and  I'll  do  my  best  to  assist  you.\\n\"), HumanMessage(content='List all the faculties of AIT'), AIMessage(content='<pad>   html>\\n School  of  Environment,  Resources  and  Development\\n School  of  Engineering  and  Technology\\n School  of  Management\\n'), HumanMessage(content='Provide the brief history of AIT'), AIMessage(content='<pad> < pad>\\n The  Asian  Institute  of  Technology  (AIT)  was  founded  in  1959  as  SEATO  Graduate  School  of  Engineering.  It  was  established  to  provide  engineering  education  and  research  to  students  from  Southeast  Asia  and  the  Pacific  region.  The  school  was  initially  located  in  Bangkok,  Thailand,  but  it  later  moved  to  Thammasat  Rangsit,  a  city  located  40km  north  of  Bangkok.  The  school  was  renamed  to  Asian  Institute  of  Technology  (AIT)  in  1985.  Today,  AIT  is  an  international  organization  for  higher  education  situated  40km  north  of  Bangkok,  Thailand.  It  specializes  in  engineering,  advanced  technologies,  sustainable  development,  and  management  and  planning.  It  aims  to  promote  technological  change  and  sustainable  development  in  the  Asia-Pacific')]\n",
            "Follow Up Input: How can i get admission at AIT\n",
            "Standalone question:\u001b[0m\n",
            "\n",
            "\u001b[1m> Finished chain.\u001b[0m\n",
            "\n",
            "\n",
            "\u001b[1m> Entering new StuffDocumentsChain chain...\u001b[0m\n",
            "\n",
            "\n",
            "\u001b[1m> Entering new LLMChain chain...\u001b[0m\n",
            "Prompt after formatting:\n",
            "\u001b[32;1m\u001b[1;3m\"Welcome to the Friendly and Assistive Informational Bot for Asian Institute of Technology!\n",
            "   How can I assist you today? Whether you need information about programs, admission procedures, campus facilities,\n",
            "   or anything else related to AIT, I'm here to help. Just ask away, and I'll provide you with all the necessary details\n",
            "   to make your experience at AIT as smooth and enjoyable as possible.\"\n",
            "    Student body\n",
            "AIT's student body comes from more than 50 countries, with Thailand contributing to about one-third. It has always been international, with international donors offering scholarships to AIT students for capacity building.\n",
            "\n",
            "Scholarships\n",
            "Full Scholarships\n",
            "\n",
            "academic, research, and outreach programs \n",
            "prepare graduates for professional success and \n",
            "leadership roles in Asia and beyond. \n",
            "Founded in 1959, AIT offers students the \n",
            "opportunity to study at an institution in Asia \n",
            "which possesses a global reputation. AIT stresses \n",
            "its international connections, its injection of \n",
            "innovation into research and teaching, its \n",
            "engagement with public and private sectors, \n",
            "and its nurturing of entrepreneurship. AIT \n",
            "continues to fulfill its capacity-building role \n",
            "and has oriented its education and research \n",
            "to support the United Nations Sustainable \n",
            "Development Goals (SDGs). The institute \n",
            "emphasizes experiential learning through\n",
            "\n",
            "AIT was hosted by the Faculty of Engineering, Chulalongkorn University, Thailand, before it moved to its present campus in November 1973. Currently, it is located in the Rangsit area next to Thammasat University (Rangsit Campus), about 65 kilometers from the Suvarnabhumi Airport.\n",
            "\n",
            "AIT has a remote campus called AIT Center in Vietnam. It was established in 1993 under the memorandum of understanding between the Vietnam Ministry of Education and Training and the AIT.[17] At that time AITCV was the first international institution in Vietnam and the first AIT campus outside Thailand.\n",
            "\n",
            "Other Awards\n",
            "AIT received the Science and Technology for Development Award from USAID and National Research Council in 1987.[29] In 1994, it won the Development Management Award from the Asian Management Awards, while in 1996, it was awarded by the Danube Adria Association and Manufacturing (DAAM) International Vienna, Austria. In 2016, AIT won the gold medal from the Thai Research Fund (TRF) for bagging the most perfect scores (seven scores of '5' each) among all universities in Thailand.[30]\n",
            "    Question: <pad> How  can  I  apply  for  admission  at  AIT?\n",
            "\n",
            "    Answer:\u001b[0m\n"
          ]
        },
        {
          "name": "stderr",
          "output_type": "stream",
          "text": [
            "Both `max_new_tokens` (=256) and `max_length`(=20) seem to have been set. `max_new_tokens` will take precedence. Please refer to the documentation for more information. (https://huggingface.co/docs/transformers/main/en/main_classes/text_generation)\n"
          ]
        },
        {
          "name": "stdout",
          "output_type": "stream",
          "text": [
            "\n",
            "\u001b[1m> Finished chain.\u001b[0m\n",
            "\n",
            "\u001b[1m> Finished chain.\u001b[0m\n",
            "\n",
            "\u001b[1m> Finished chain.\u001b[0m\n"
          ]
        }
      ],
      "source": [
        "prompt_question = \"How can i get admission at AIT\"\n",
        "answer = chain({\"question\":prompt_question})"
      ]
    },
    {
      "cell_type": "code",
      "execution_count": 55,
      "metadata": {
        "colab": {
          "base_uri": "https://localhost:8080/",
          "height": 122
        },
        "id": "C6R9wvpLqAKm",
        "outputId": "be6778ae-bfef-4f5c-cf42-818fdba6c470"
      },
      "outputs": [
        {
          "data": {
            "application/vnd.google.colaboratory.intrinsic+json": {
              "type": "string"
            },
            "text/plain": [
              "'< p>Admission  to  AIT  is  open  to  students  from  all  countries  who  meet  the  eligibility  criteria  and  meet  the  academic  requirements  for  the  program  they  are  applying  for.  The  application  process  typically  involves  submitting  an  online  application,  a  personal  statement,  and  a  transcript  of  academic  records.  The  application  process  may  vary  depending  on  the  program  and  the  specific  requirements  of  the  program.\\n To  apply  for  admission  to  AIT,  you  can  visit  the  official  website  of  the  program  you  are  interested  in  and  follow  the  instructions  to  submit  your  application.  You  can  also  contact  the  Admissions  Office  for  more  information  on  the  application  process  and  requirements.'"
            ]
          },
          "execution_count": 55,
          "metadata": {},
          "output_type": "execute_result"
        }
      ],
      "source": [
        "answer['answer'].replace('<pad>', '').strip()"
      ]
    }
  ],
  "metadata": {
    "accelerator": "GPU",
    "colab": {
      "gpuType": "T4",
      "provenance": []
    },
    "kernelspec": {
      "display_name": "Python 3",
      "name": "python3"
    },
    "language_info": {
      "codemirror_mode": {
        "name": "ipython",
        "version": 3
      },
      "file_extension": ".py",
      "mimetype": "text/x-python",
      "name": "python",
      "nbconvert_exporter": "python",
      "pygments_lexer": "ipython3",
      "version": "3.10.13"
    }
  },
  "nbformat": 4,
  "nbformat_minor": 0
}
